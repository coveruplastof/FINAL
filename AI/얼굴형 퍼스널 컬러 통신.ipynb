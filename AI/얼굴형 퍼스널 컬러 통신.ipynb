{
 "cells": [
  {
   "cell_type": "code",
   "execution_count": 2,
   "metadata": {},
   "outputs": [
    {
     "name": "stdout",
     "output_type": "stream",
     "text": [
      " * Serving Flask app '__main__'\n",
      " * Debug mode: off\n"
     ]
    },
    {
     "name": "stderr",
     "output_type": "stream",
     "text": [
      "WARNING: This is a development server. Do not use it in a production deployment. Use a production WSGI server instead.\n",
      " * Running on all addresses (0.0.0.0)\n",
      " * Running on http://127.0.0.1:5000\n",
      " * Running on http://192.168.0.40:5000\n",
      "Press CTRL+C to quit\n"
     ]
    },
    {
     "name": "stdout",
     "output_type": "stream",
     "text": [
      "ㅎㅇ\n",
      "1/1 [==============================] - 0s 62ms/step\n"
     ]
    },
    {
     "name": "stderr",
     "output_type": "stream",
     "text": [
      "[2023-11-24 09:21:09,741] ERROR in app: Exception on /submit [POST]\n",
      "Traceback (most recent call last):\n",
      "  File \"c:\\Users\\user\\miniconda3\\envs\\final\\lib\\site-packages\\flask\\app.py\", line 1455, in wsgi_app\n",
      "    response = self.full_dispatch_request()\n",
      "  File \"c:\\Users\\user\\miniconda3\\envs\\final\\lib\\site-packages\\flask\\app.py\", line 869, in full_dispatch_request\n",
      "    rv = self.handle_user_exception(e)\n",
      "  File \"c:\\Users\\user\\miniconda3\\envs\\final\\lib\\site-packages\\flask\\app.py\", line 867, in full_dispatch_request\n",
      "    rv = self.dispatch_request()\n",
      "  File \"c:\\Users\\user\\miniconda3\\envs\\final\\lib\\site-packages\\flask\\app.py\", line 852, in dispatch_request\n",
      "    return self.ensure_sync(self.view_functions[rule.endpoint])(**view_args)\n",
      "  File \"C:\\Users\\user\\AppData\\Local\\Temp\\ipykernel_15796\\1595197572.py\", line 71, in submit\n",
      "    tone = personal_color.analysis(file_path)  # file_path를 사용하여 색조 분석\n",
      "  File \"d:\\AI(B)\\myprj\\lask\\personalColor\\personal_color_analysis\\personal_color.py\", line 13, in analysis\n",
      "    df = DetectFace(imgpath) #\n",
      "  File \"d:\\AI(B)\\myprj\\lask\\personalColor\\personal_color_analysis\\detect_face.py\", line 33, in __init__\n",
      "    self.detect_face_part() #\n",
      "  File \"d:\\AI(B)\\myprj\\lask\\personalColor\\personal_color_analysis\\detect_face.py\", line 58, in detect_face_part\n",
      "    rect = self.detector(cv2.cvtColor(self.img, cv2.COLOR_BGR2GRAY), 1)[0]\n",
      "IndexError\n",
      "192.168.0.38 - - [24/Nov/2023 09:21:09] \"POST /submit HTTP/1.1\" 500 -\n"
     ]
    },
    {
     "name": "stdout",
     "output_type": "stream",
     "text": [
      "ㅎㅇ\n",
      "1/1 [==============================] - 0s 35ms/step\n"
     ]
    },
    {
     "name": "stderr",
     "output_type": "stream",
     "text": [
      "[2023-11-24 09:21:53,608] ERROR in app: Exception on /submit [POST]\n",
      "Traceback (most recent call last):\n",
      "  File \"c:\\Users\\user\\miniconda3\\envs\\final\\lib\\site-packages\\flask\\app.py\", line 1455, in wsgi_app\n",
      "    response = self.full_dispatch_request()\n",
      "  File \"c:\\Users\\user\\miniconda3\\envs\\final\\lib\\site-packages\\flask\\app.py\", line 869, in full_dispatch_request\n",
      "    rv = self.handle_user_exception(e)\n",
      "  File \"c:\\Users\\user\\miniconda3\\envs\\final\\lib\\site-packages\\flask\\app.py\", line 867, in full_dispatch_request\n",
      "    rv = self.dispatch_request()\n",
      "  File \"c:\\Users\\user\\miniconda3\\envs\\final\\lib\\site-packages\\flask\\app.py\", line 852, in dispatch_request\n",
      "    return self.ensure_sync(self.view_functions[rule.endpoint])(**view_args)\n",
      "  File \"C:\\Users\\user\\AppData\\Local\\Temp\\ipykernel_15796\\1595197572.py\", line 71, in submit\n",
      "    tone = personal_color.analysis(file_path)  # file_path를 사용하여 색조 분석\n",
      "  File \"d:\\AI(B)\\myprj\\lask\\personalColor\\personal_color_analysis\\personal_color.py\", line 13, in analysis\n",
      "    df = DetectFace(imgpath) #\n",
      "  File \"d:\\AI(B)\\myprj\\lask\\personalColor\\personal_color_analysis\\detect_face.py\", line 33, in __init__\n",
      "    self.detect_face_part() #\n",
      "  File \"d:\\AI(B)\\myprj\\lask\\personalColor\\personal_color_analysis\\detect_face.py\", line 58, in detect_face_part\n",
      "    rect = self.detector(cv2.cvtColor(self.img, cv2.COLOR_BGR2GRAY), 1)[0]\n",
      "IndexError\n",
      "192.168.0.38 - - [24/Nov/2023 09:21:53] \"POST /submit HTTP/1.1\" 500 -\n"
     ]
    },
    {
     "name": "stdout",
     "output_type": "stream",
     "text": [
      "ㅎㅇ\n",
      "1/1 [==============================] - 0s 36ms/step\n"
     ]
    },
    {
     "name": "stderr",
     "output_type": "stream",
     "text": [
      "[2023-11-24 09:22:09,314] ERROR in app: Exception on /submit [POST]\n",
      "Traceback (most recent call last):\n",
      "  File \"c:\\Users\\user\\miniconda3\\envs\\final\\lib\\site-packages\\flask\\app.py\", line 1455, in wsgi_app\n",
      "    response = self.full_dispatch_request()\n",
      "  File \"c:\\Users\\user\\miniconda3\\envs\\final\\lib\\site-packages\\flask\\app.py\", line 869, in full_dispatch_request\n",
      "    rv = self.handle_user_exception(e)\n",
      "  File \"c:\\Users\\user\\miniconda3\\envs\\final\\lib\\site-packages\\flask\\app.py\", line 867, in full_dispatch_request\n",
      "    rv = self.dispatch_request()\n",
      "  File \"c:\\Users\\user\\miniconda3\\envs\\final\\lib\\site-packages\\flask\\app.py\", line 852, in dispatch_request\n",
      "    return self.ensure_sync(self.view_functions[rule.endpoint])(**view_args)\n",
      "  File \"C:\\Users\\user\\AppData\\Local\\Temp\\ipykernel_15796\\1595197572.py\", line 71, in submit\n",
      "    tone = personal_color.analysis(file_path)  # file_path를 사용하여 색조 분석\n",
      "  File \"d:\\AI(B)\\myprj\\lask\\personalColor\\personal_color_analysis\\personal_color.py\", line 13, in analysis\n",
      "    df = DetectFace(imgpath) #\n",
      "  File \"d:\\AI(B)\\myprj\\lask\\personalColor\\personal_color_analysis\\detect_face.py\", line 33, in __init__\n",
      "    self.detect_face_part() #\n",
      "  File \"d:\\AI(B)\\myprj\\lask\\personalColor\\personal_color_analysis\\detect_face.py\", line 58, in detect_face_part\n",
      "    rect = self.detector(cv2.cvtColor(self.img, cv2.COLOR_BGR2GRAY), 1)[0]\n",
      "IndexError\n",
      "192.168.0.38 - - [24/Nov/2023 09:22:09] \"POST /submit HTTP/1.1\" 500 -\n"
     ]
    },
    {
     "name": "stdout",
     "output_type": "stream",
     "text": [
      "ㅎㅇ\n",
      "1/1 [==============================] - 0s 32ms/step\n",
      "\n"
     ]
    },
    {
     "name": "stderr",
     "output_type": "stream",
     "text": [
      "c:\\Users\\user\\miniconda3\\envs\\final\\lib\\site-packages\\sklearn\\cluster\\_kmeans.py:1416: FutureWarning: The default value of `n_init` will change from 10 to 'auto' in 1.4. Set the value of `n_init` explicitly to suppress the warning\n",
      "  super()._check_params_vs_input(X, default_n_init=10)\n",
      "c:\\Users\\user\\miniconda3\\envs\\final\\lib\\site-packages\\sklearn\\cluster\\_kmeans.py:1416: FutureWarning: The default value of `n_init` will change from 10 to 'auto' in 1.4. Set the value of `n_init` explicitly to suppress the warning\n",
      "  super()._check_params_vs_input(X, default_n_init=10)\n",
      "c:\\Users\\user\\miniconda3\\envs\\final\\lib\\site-packages\\sklearn\\cluster\\_kmeans.py:1416: FutureWarning: The default value of `n_init` will change from 10 to 'auto' in 1.4. Set the value of `n_init` explicitly to suppress the warning\n",
      "  super()._check_params_vs_input(X, default_n_init=10)\n",
      "c:\\Users\\user\\miniconda3\\envs\\final\\lib\\site-packages\\sklearn\\cluster\\_kmeans.py:1416: FutureWarning: The default value of `n_init` will change from 10 to 'auto' in 1.4. Set the value of `n_init` explicitly to suppress the warning\n",
      "  super()._check_params_vs_input(X, default_n_init=10)\n",
      "c:\\Users\\user\\miniconda3\\envs\\final\\lib\\site-packages\\sklearn\\cluster\\_kmeans.py:1416: FutureWarning: The default value of `n_init` will change from 10 to 'auto' in 1.4. Set the value of `n_init` explicitly to suppress the warning\n",
      "  super()._check_params_vs_input(X, default_n_init=10)\n",
      "c:\\Users\\user\\miniconda3\\envs\\final\\lib\\site-packages\\sklearn\\cluster\\_kmeans.py:1416: FutureWarning: The default value of `n_init` will change from 10 to 'auto' in 1.4. Set the value of `n_init` explicitly to suppress the warning\n",
      "  super()._check_params_vs_input(X, default_n_init=10)\n",
      "192.168.0.38 - - [24/Nov/2023 09:22:34] \"POST /submit HTTP/1.1\" 200 -\n"
     ]
    },
    {
     "name": "stdout",
     "output_type": "stream",
     "text": [
      "Lab_b[skin, eyebrow, eye] [16.16, 5.65, 12.01]\n",
      "hsv_s[skin, eyebrow, eye] [42.0, 28.000000000000004, 45.0]\n",
      "skin 의 spring 기준값과의 거리\n",
      "234.07039999999998\n",
      "skin 의 fall 기준값과의 거리\n",
      "148.6013\n",
      "eyebrow 의 spring 기준값과의 거리\n",
      "2.303029999999996\n",
      "eyebrow 의 fall 기준값과의 거리\n",
      "11.751549999999998\n",
      "eye 의 spring 기준값과의 거리\n",
      "19.19355\n",
      "eye 의 fall 기준값과의 거리\n",
      "7.5\n",
      "D:/stable/captured_image.png의 퍼스널 컬러는 FALL WARM입니다.\n",
      "ㅎㅇ\n",
      "1/1 [==============================] - 0s 28ms/step\n"
     ]
    },
    {
     "name": "stderr",
     "output_type": "stream",
     "text": [
      "192.168.0.38 - - [24/Nov/2023 09:23:50] \"POST /submit HTTP/1.1\" 200 -\n"
     ]
    },
    {
     "name": "stdout",
     "output_type": "stream",
     "text": [
      "얼굴인식 실패\n",
      "ㅎㅇ\n",
      "1/1 [==============================] - 0s 17ms/step\n",
      "\n"
     ]
    },
    {
     "name": "stderr",
     "output_type": "stream",
     "text": [
      "c:\\Users\\user\\miniconda3\\envs\\final\\lib\\site-packages\\sklearn\\cluster\\_kmeans.py:1416: FutureWarning: The default value of `n_init` will change from 10 to 'auto' in 1.4. Set the value of `n_init` explicitly to suppress the warning\n",
      "  super()._check_params_vs_input(X, default_n_init=10)\n",
      "c:\\Users\\user\\miniconda3\\envs\\final\\lib\\site-packages\\sklearn\\cluster\\_kmeans.py:1416: FutureWarning: The default value of `n_init` will change from 10 to 'auto' in 1.4. Set the value of `n_init` explicitly to suppress the warning\n",
      "  super()._check_params_vs_input(X, default_n_init=10)\n",
      "c:\\Users\\user\\miniconda3\\envs\\final\\lib\\site-packages\\sklearn\\cluster\\_kmeans.py:1416: FutureWarning: The default value of `n_init` will change from 10 to 'auto' in 1.4. Set the value of `n_init` explicitly to suppress the warning\n",
      "  super()._check_params_vs_input(X, default_n_init=10)\n",
      "c:\\Users\\user\\miniconda3\\envs\\final\\lib\\site-packages\\sklearn\\cluster\\_kmeans.py:1416: FutureWarning: The default value of `n_init` will change from 10 to 'auto' in 1.4. Set the value of `n_init` explicitly to suppress the warning\n",
      "  super()._check_params_vs_input(X, default_n_init=10)\n",
      "c:\\Users\\user\\miniconda3\\envs\\final\\lib\\site-packages\\sklearn\\cluster\\_kmeans.py:1416: FutureWarning: The default value of `n_init` will change from 10 to 'auto' in 1.4. Set the value of `n_init` explicitly to suppress the warning\n",
      "  super()._check_params_vs_input(X, default_n_init=10)\n",
      "c:\\Users\\user\\miniconda3\\envs\\final\\lib\\site-packages\\sklearn\\cluster\\_kmeans.py:1416: FutureWarning: The default value of `n_init` will change from 10 to 'auto' in 1.4. Set the value of `n_init` explicitly to suppress the warning\n",
      "  super()._check_params_vs_input(X, default_n_init=10)\n",
      "192.168.0.38 - - [24/Nov/2023 09:24:19] \"POST /submit HTTP/1.1\" 200 -\n"
     ]
    },
    {
     "name": "stdout",
     "output_type": "stream",
     "text": [
      "Lab_b[skin, eyebrow, eye] [14.92, 4.34, 11.49]\n",
      "hsv_s[skin, eyebrow, eye] [33.0, 21.0, 38.0]\n",
      "skin 의 spring 기준값과의 거리\n",
      "144.07039999999998\n",
      "skin 의 fall 기준값과의 거리\n",
      "58.601300000000016\n",
      "eyebrow 의 spring 기준값과의 거리\n",
      "9.30303\n",
      "eyebrow 의 fall 기준값과의 거리\n",
      "18.75155\n",
      "eye 의 spring 기준값과의 거리\n",
      "12.193549999999998\n",
      "eye 의 fall 기준값과의 거리\n",
      "0.5\n",
      "D:/stable/captured_image.png의 퍼스널 컬러는 FALL WARM입니다.\n",
      "ㅎㅇ\n",
      "1/1 [==============================] - 0s 25ms/step\n",
      "\n"
     ]
    },
    {
     "name": "stderr",
     "output_type": "stream",
     "text": [
      "c:\\Users\\user\\miniconda3\\envs\\final\\lib\\site-packages\\sklearn\\cluster\\_kmeans.py:1416: FutureWarning: The default value of `n_init` will change from 10 to 'auto' in 1.4. Set the value of `n_init` explicitly to suppress the warning\n",
      "  super()._check_params_vs_input(X, default_n_init=10)\n",
      "c:\\Users\\user\\miniconda3\\envs\\final\\lib\\site-packages\\sklearn\\cluster\\_kmeans.py:1416: FutureWarning: The default value of `n_init` will change from 10 to 'auto' in 1.4. Set the value of `n_init` explicitly to suppress the warning\n",
      "  super()._check_params_vs_input(X, default_n_init=10)\n",
      "c:\\Users\\user\\miniconda3\\envs\\final\\lib\\site-packages\\sklearn\\cluster\\_kmeans.py:1416: FutureWarning: The default value of `n_init` will change from 10 to 'auto' in 1.4. Set the value of `n_init` explicitly to suppress the warning\n",
      "  super()._check_params_vs_input(X, default_n_init=10)\n",
      "c:\\Users\\user\\miniconda3\\envs\\final\\lib\\site-packages\\sklearn\\cluster\\_kmeans.py:1416: FutureWarning: The default value of `n_init` will change from 10 to 'auto' in 1.4. Set the value of `n_init` explicitly to suppress the warning\n",
      "  super()._check_params_vs_input(X, default_n_init=10)\n",
      "c:\\Users\\user\\miniconda3\\envs\\final\\lib\\site-packages\\sklearn\\cluster\\_kmeans.py:1416: FutureWarning: The default value of `n_init` will change from 10 to 'auto' in 1.4. Set the value of `n_init` explicitly to suppress the warning\n",
      "  super()._check_params_vs_input(X, default_n_init=10)\n",
      "c:\\Users\\user\\miniconda3\\envs\\final\\lib\\site-packages\\sklearn\\cluster\\_kmeans.py:1416: FutureWarning: The default value of `n_init` will change from 10 to 'auto' in 1.4. Set the value of `n_init` explicitly to suppress the warning\n",
      "  super()._check_params_vs_input(X, default_n_init=10)\n",
      "192.168.0.38 - - [24/Nov/2023 09:25:22] \"POST /submit HTTP/1.1\" 200 -\n"
     ]
    },
    {
     "name": "stdout",
     "output_type": "stream",
     "text": [
      "Lab_b[skin, eyebrow, eye] [12.93, 3.61, 7.79]\n",
      "hsv_s[skin, eyebrow, eye] [31.0, 22.0, 30.0]\n",
      "skin 의 spring 기준값과의 거리\n",
      "124.07039999999998\n",
      "skin 의 fall 기준값과의 거리\n",
      "38.601300000000016\n",
      "eyebrow 의 spring 기준값과의 거리\n",
      "8.30303\n",
      "eyebrow 의 fall 기준값과의 거리\n",
      "17.75155\n",
      "eye 의 spring 기준값과의 거리\n",
      "4.193549999999998\n",
      "eye 의 fall 기준값과의 거리\n",
      "7.5\n",
      "D:/stable/captured_image.png의 퍼스널 컬러는 FALL WARM입니다.\n"
     ]
    }
   ],
   "source": [
    "from flask import Flask, request, Blueprint,jsonify\n",
    "import cv2\n",
    "import dlib\n",
    "from imutils import face_utils\n",
    "import numpy as np\n",
    "from keras.models import load_model\n",
    "from personalColor.personal_color_analysis import personal_color\n",
    "import pandas as pd\n",
    "from werkzeug.utils import secure_filename\n",
    "\n",
    " \n",
    "app = Flask(__name__)\n",
    "\n",
    "bp = Blueprint('main', __name__, url_prefix='/')\n",
    "\n",
    "face_cascade = cv2.CascadeClassifier('haarcascade_frontalface_default.xml')\n",
    "predictor = dlib.shape_predictor('shape_predictor_68_face_landmarks.dat')\n",
    "\n",
    "image_counter = 0  # 이미지 카운터를 초기화합니다\n",
    "\n",
    "\n",
    "# 얼굴 모양 분류 모델 로드\n",
    "classifier = load_model('D:/AI(B)/myprj/lask/my_model_02')\n",
    "\n",
    "def generate_frames():\n",
    "    while True:\n",
    "        success, frame = camera.read()\n",
    "        if not success:\n",
    "            break\n",
    "        else:\n",
    "            gray = cv2.cvtColor(frame, cv2.COLOR_BGR2GRAY)\n",
    "            faces = face_cascade.detectMultiScale(gray, scaleFactor=1.1, minNeighbors=5, minSize=(30, 30), flags=cv2.CASCADE_SCALE_IMAGE)\n",
    "\n",
    "            for (x, y, w, h) in faces:\n",
    "                rect = dlib.rectangle(int(x), int(y), int(x + w), int(y + h))\n",
    "                landmarks = predictor(gray, rect)\n",
    "                landmarks = face_utils.shape_to_np(landmarks)\n",
    "                for (x, y) in landmarks:\n",
    "                    cv2.circle(frame, (x, y), 2, (0, 255, 0), -1)\n",
    "\n",
    "            ret, buffer = cv2.imencode('.jpg', frame)\n",
    "            frame = buffer.tobytes()\n",
    "\n",
    "            yield (b'--frame\\r\\n'\n",
    "                   b'Content-Type: image/jpeg\\r\\n\\r\\n' + frame + b'\\r\\n')\n",
    "\n",
    "\n",
    "global combined_result\n",
    "\n",
    "@app.route('/submit', methods=['POST'])\n",
    "def submit():\n",
    "    f = request.files['file']\n",
    "    file_path = 'D:/stable/' + secure_filename(f.filename)\n",
    "    f.save(file_path)\n",
    "    print(\"ㅎㅇ\")\n",
    "    from keras.preprocessing import image as keras_image\n",
    "    test_image = keras_image.load_img(file_path, target_size=(64, 64))\n",
    "    test_image = keras_image.img_to_array(test_image)\n",
    "    test_image = np.expand_dims(test_image, axis=0)\n",
    "\n",
    "    result = classifier.predict(test_image)\n",
    "    result = result.argmax()\n",
    "\n",
    "    if result == 0:\n",
    "        prediction = 'Oblong'\n",
    "    elif result == 1:\n",
    "        prediction = 'Round'\n",
    "    else:\n",
    "        prediction = 'Square'\n",
    "\n",
    "    tone = personal_color.analysis(file_path)  # file_path를 사용하여 색조 분석\n",
    "\n",
    "    # Combined result\n",
    "    combined_result = {\n",
    "        \"shape\": prediction,\n",
    "        \"tone\": tone\n",
    "    }\n",
    "\n",
    "    return combined_result\n",
    "\n",
    "\n",
    "if __name__ == '__main__':\n",
    "    app.run(host='0.0.0.0')"
   ]
  }
 ],
 "metadata": {
  "kernelspec": {
   "display_name": "myhome1",
   "language": "python",
   "name": "python3"
  },
  "language_info": {
   "codemirror_mode": {
    "name": "ipython",
    "version": 3
   },
   "file_extension": ".py",
   "mimetype": "text/x-python",
   "name": "python",
   "nbconvert_exporter": "python",
   "pygments_lexer": "ipython3",
   "version": "3.8.18"
  }
 },
 "nbformat": 4,
 "nbformat_minor": 2
}
