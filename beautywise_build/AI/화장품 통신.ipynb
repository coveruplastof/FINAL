{
 "cells": [
  {
   "cell_type": "code",
   "execution_count": 7,
   "metadata": {},
   "outputs": [
    {
     "name": "stdout",
     "output_type": "stream",
     "text": [
      " * Serving Flask app '__main__'\n",
      " * Debug mode: off\n"
     ]
    },
    {
     "name": "stderr",
     "output_type": "stream",
     "text": [
      "WARNING: This is a development server. Do not use it in a production deployment. Use a production WSGI server instead.\n",
      " * Running on all addresses (0.0.0.0)\n",
      " * Running on http://127.0.0.1:5000\n",
      " * Running on http://192.168.0.40:5000\n",
      "Press CTRL+C to quit\n"
     ]
    },
    {
     "name": "stderr",
     "output_type": "stream",
     "text": [
      "[2023-11-24 09:42:34,848] ERROR in app: Exception on /submit [POST]\n",
      "Traceback (most recent call last):\n",
      "  File \"c:\\Users\\user\\miniconda3\\envs\\final\\lib\\site-packages\\flask\\app.py\", line 1455, in wsgi_app\n",
      "    response = self.full_dispatch_request()\n",
      "  File \"c:\\Users\\user\\miniconda3\\envs\\final\\lib\\site-packages\\flask\\app.py\", line 869, in full_dispatch_request\n",
      "    rv = self.handle_user_exception(e)\n",
      "  File \"c:\\Users\\user\\miniconda3\\envs\\final\\lib\\site-packages\\flask\\app.py\", line 867, in full_dispatch_request\n",
      "    rv = self.dispatch_request()\n",
      "  File \"c:\\Users\\user\\miniconda3\\envs\\final\\lib\\site-packages\\flask\\app.py\", line 852, in dispatch_request\n",
      "    return self.ensure_sync(self.view_functions[rule.endpoint])(**view_args)\n",
      "  File \"C:\\Users\\user\\AppData\\Local\\Temp\\ipykernel_15708\\1951698925.py\", line 136, in submit\n",
      "    'essence':arr[0],\n",
      "IndexError: list index out of range\n",
      "192.168.0.38 - - [24/Nov/2023 09:42:34] \"POST /submit HTTP/1.1\" 500 -\n"
     ]
    },
    {
     "name": "stdout",
     "output_type": "stream",
     "text": [
      "asfasfafs\n"
     ]
    },
    {
     "name": "stderr",
     "output_type": "stream",
     "text": [
      "192.168.0.38 - - [24/Nov/2023 09:43:50] \"POST /submit HTTP/1.1\" 200 -\n"
     ]
    },
    {
     "name": "stdout",
     "output_type": "stream",
     "text": [
      "피지오겔 DMT포맨\n",
      "코스알엑스 더 비타민C23 세럼 더블기획\n",
      "아누아 어성초 77 수딩 토너\n",
      "라운드랩 자작나무 수분 크림\n",
      "라운드랩 1025 독도 로션\n",
      "{'essence': '코스알엑스 더 비타민C23 세럼 더블기획', 'skin': '아누아 어성초 77 수딩 토너', 'crime': '라운드랩 자작나무 수분 크림', 'location': '라운드랩 1025 독도 로션'}\n"
     ]
    },
    {
     "name": "stderr",
     "output_type": "stream",
     "text": [
      "192.168.0.38 - - [24/Nov/2023 09:44:51] \"POST /submit HTTP/1.1\" 200 -\n"
     ]
    },
    {
     "name": "stdout",
     "output_type": "stream",
     "text": [
      "피지오겔 DMT포맨\n",
      "피지오겔 사이언수티컬즈 데일리뮨 앰플 세럼\n",
      "넘버즈인 1번 진정 맑게담은 청초토너\n",
      "라운드랩 자작나무 수분 크림\n",
      "라운드랩 1025 독도 로션\n",
      "{'essence': '피지오겔 사이언수티컬즈 데일리뮨 앰플 세럼', 'skin': '넘버즈인 1번 진정 맑게담은 청초토너', 'crime': '라운드랩 자작나무 수분 크림', 'location': '라운드랩 1025 독도 로션'}\n"
     ]
    },
    {
     "name": "stderr",
     "output_type": "stream",
     "text": [
      "192.168.0.38 - - [24/Nov/2023 09:45:11] \"POST /submit HTTP/1.1\" 200 -\n"
     ]
    },
    {
     "name": "stdout",
     "output_type": "stream",
     "text": [
      "피지오겔 DMT포맨\n",
      "메디필 히알루론산 레이어 물톡스 앰플 더블\n",
      "브링그린 티트리시카수딩토너\n",
      "이즈앤트리 어니언 뉴페어 겔크림\n",
      "라운드랩 1025 독도 로션\n",
      "{'essence': '메디필 히알루론산 레이어 물톡스 앰플 더블', 'skin': '브링그린 티트리시카수딩토너', 'crime': '이즈앤트리 어니언 뉴페어 겔크림', 'location': '라운드랩 1025 독도 로션'}\n"
     ]
    }
   ],
   "source": [
    "import pandas as pd\n",
    "import random\n",
    "import os\n",
    "from PIL import Image\n",
    "import matplotlib.pyplot as plt\n",
    "import matplotlib.font_manager as fm\n",
    "from flask import Flask, request, jsonify\n",
    "from werkzeug.utils import secure_filename\n",
    "\n",
    "app = Flask(__name__)\n",
    "\n",
    "font_path = r'D:\\AI(A)\\fonts\\NanumBarunGothic.ttf'\n",
    "\n",
    "skincare_data  = pd.read_csv('skincare3.csv')\n",
    "font_prop = fm.FontProperties(fname=font_path)\n",
    "\n",
    "class SkincareProductRecommender:\n",
    "    def __init__(self, dataframe):\n",
    "        self.dataframe = dataframe\n",
    "\n",
    "    def check_ingredient_presence(self, product_name, ingredient_list):\n",
    "        product = self.dataframe[self.dataframe['name'] == product_name]\n",
    "        if not product.empty:\n",
    "            ingredients_list = eval(product['elements'].values[0])\n",
    "            # Check for both full and partial matches within each ingredient\n",
    "            return any(any(ingredient_part in ingredient for ingredient_part in ingredient_list) for ingredient in ingredients_list)\n",
    "        return False\n",
    "\n",
    "    def recommend_products_excluding_bad_combinations(self, good_combination, bad_combination):\n",
    "        recommended_products = []\n",
    "        for index, row in self.dataframe.iterrows():\n",
    "            ingredients_list = eval(row['elements'])\n",
    "            contains_bad = any(bad in ingredient for ingredient in ingredients_list for bad in bad_combination)\n",
    "            contains_good = any(good in ingredient for ingredient in ingredients_list for good in good_combination)\n",
    "            if contains_good and not contains_bad:\n",
    "                recommended_products.append(row['name'])\n",
    "        return recommended_products\n",
    "\n",
    "    def categorize_and_recommend_products(self, recommended_product_names):\n",
    "        categorized_recommendations = {'에센스': [], '스킨': [], '크림': [], '로션': []}\n",
    "        for product_name in recommended_product_names:\n",
    "            product_row = self.dataframe[self.dataframe['name'] == product_name]\n",
    "            if not product_row.empty:\n",
    "                for category in categorized_recommendations:\n",
    "                    if product_row[category].values[0] == 1:\n",
    "                        categorized_recommendations[category].append(product_name)\n",
    "\n",
    "        # Select a random product from each category\n",
    "        for category in categorized_recommendations:\n",
    "            if categorized_recommendations[category]:\n",
    "                categorized_recommendations[category] = [random.choice(categorized_recommendations[category])]\n",
    "\n",
    "        return categorized_recommendations\n",
    "\n",
    "    \n",
    "    def check_and_recommend(self, product_name, ingredient_check, good_combination, bad_combination):\n",
    "        if self.check_ingredient_presence(product_name, ingredient_check):\n",
    "            recommended_products = self.recommend_products_excluding_bad_combinations(good_combination, bad_combination)\n",
    "            return self.categorize_and_recommend_products(recommended_products)\n",
    "        return {}\n",
    "\n",
    "\n",
    "@app.route('/submit', methods=['POST'])\n",
    "def submit():\n",
    "    text = request.form['txta']\n",
    "    print(text)\n",
    "\n",
    "    product_name_to_check=text\n",
    "    \n",
    "    skincare_data = pd.read_csv('skincare3.csv')  # CSV 파일 경로 확인 필요\n",
    "    recommender = SkincareProductRecommender(skincare_data)\n",
    "\n",
    "    vitamin_c_ingredients = [\"비타민C\", \"아스코빅애씨드\", \"에칠아스코빌에텔\", \"아스코빅애씨드폴리펩타이드\", \"아스코빌글루코사이드\"]\n",
    "    good_combination_ingredients = [\"펩타이드\", \"매트릭실\"]\n",
    "    bad_combination_ingredients = [\"콜라겐\", \"알파하이드록시산\", \"살리실릭애씨드\", \"실리실산\"]\n",
    "\n",
    "    retinol_ingredients = [\n",
    "        \"레티놀\", \"레티닐팔미테이트\", \"레티닐아세테이트\", \"레티닐프로피오네이트\", \n",
    "        \"레티닐리놀리에이트\", \"폴리에톡시레이티드레틴아마이드\", \"레티닐레티노에이트\", \"레틴알\", \n",
    "        \"레티노익애씨드\", \"레티노익애씨드 유도체\", \"트레티노인\"\n",
    "    ]\n",
    "    good_combinations_with_retinol = [\n",
    "        \"펩타이드\", \"매트릭실\", \"히알루론산\", \"하이드롤라이즈드 히알루론산\", \n",
    "        \"소듐 히알루로네이트\", \"하이알루\"\n",
    "    ]\n",
    "    bad_combinations_with_retinol = [\"알파하이드록시산\", \"아젤틱애씨드\", \"트로첼로로아세틱애씨드\", \"살리실산\", \"벤조일페놀\"]\n",
    "\n",
    "    niacinamide_ingredients = [\"나이아신아마이드\"]\n",
    "    good_combinations_with_niacinamide = [\n",
    "        \"알부틴\", \"아스코빌글루코사이드\", \"에칠아스코빌에텔\", \"아스코빌테트라이소팔미테이트\",\n",
    "        \"실리실산\", \"실리실릭애씨드\", \"히얄루론산\", \"세콜지\", \"판테놀\"\n",
    "    ]\n",
    "    bad_combinations_with_niacinamide = [ ]\n",
    "\n",
    "\n",
    "    vitamin_c_recommendations = recommender.check_and_recommend(\n",
    "        product_name_to_check,\n",
    "        vitamin_c_ingredients,\n",
    "        good_combination_ingredients,\n",
    "        bad_combination_ingredients\n",
    "    )\n",
    "\n",
    "    retinol_recommendations = recommender.check_and_recommend(\n",
    "        product_name_to_check,\n",
    "        retinol_ingredients,\n",
    "        good_combinations_with_retinol,\n",
    "        bad_combinations_with_retinol\n",
    "    )\n",
    "\n",
    "    niacinamide_recommendations = recommender.check_and_recommend(\n",
    "        product_name_to_check,\n",
    "        niacinamide_ingredients ,\n",
    "        good_combinations_with_niacinamide,\n",
    "        bad_combinations_with_niacinamide\n",
    "    )\n",
    "\n",
    "\n",
    "    vitamin_c_present = recommender.check_ingredient_presence(product_name_to_check, vitamin_c_ingredients)\n",
    "    retinol_present = recommender.check_ingredient_presence(product_name_to_check, retinol_ingredients)\n",
    "    niacinamide_present = recommender.check_ingredient_presence(product_name_to_check, niacinamide_ingredients)\n",
    "\n",
    "\n",
    "    arr = []\n",
    "    for category, product_names in niacinamide_recommendations.items():\n",
    "        if product_names:\n",
    "            print(product_names[0])\n",
    "            arr.append(product_names[0])\n",
    "    data = {\n",
    "        'essence':arr[0],\n",
    "        'skin': arr[1],\n",
    "        'crime' : arr[2],\n",
    "        'location': arr[3] }\n",
    "    print(data)\n",
    "\n",
    "    return data\n",
    "if __name__ == '__main__':\n",
    "    app.run(host='0.0.0.0')\n",
    "\n"
   ]
  }
 ],
 "metadata": {
  "kernelspec": {
   "display_name": "final",
   "language": "python",
   "name": "python3"
  },
  "language_info": {
   "codemirror_mode": {
    "name": "ipython",
    "version": 3
   },
   "file_extension": ".py",
   "mimetype": "text/x-python",
   "name": "python",
   "nbconvert_exporter": "python",
   "pygments_lexer": "ipython3",
   "version": "3.8.18"
  }
 },
 "nbformat": 4,
 "nbformat_minor": 2
}
